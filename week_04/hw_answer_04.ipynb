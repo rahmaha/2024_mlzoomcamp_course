{
 "cells": [
  {
   "cell_type": "markdown",
   "metadata": {},
   "source": [
    "# Homework Aswer for week 4\n",
    "\n",
    "by Rahma Hayuning Astuti"
   ]
  },
  {
   "cell_type": "code",
   "execution_count": 1,
   "metadata": {},
   "outputs": [],
   "source": [
    "import pandas as pd\n",
    "import numpy as np\n",
    "import matplotlib.pyplot as plt\n",
    "import seaborn as sns\n",
    "\n",
    "%matplotlib inline"
   ]
  },
  {
   "cell_type": "code",
   "execution_count": 38,
   "metadata": {},
   "outputs": [
    {
     "data": {
      "text/html": [
       "<div>\n",
       "<style scoped>\n",
       "    .dataframe tbody tr th:only-of-type {\n",
       "        vertical-align: middle;\n",
       "    }\n",
       "\n",
       "    .dataframe tbody tr th {\n",
       "        vertical-align: top;\n",
       "    }\n",
       "\n",
       "    .dataframe thead th {\n",
       "        text-align: right;\n",
       "    }\n",
       "</style>\n",
       "<table border=\"1\" class=\"dataframe\">\n",
       "  <thead>\n",
       "    <tr style=\"text-align: right;\">\n",
       "      <th></th>\n",
       "      <th>age</th>\n",
       "      <th>job</th>\n",
       "      <th>marital</th>\n",
       "      <th>education</th>\n",
       "      <th>default</th>\n",
       "      <th>balance</th>\n",
       "      <th>housing</th>\n",
       "      <th>loan</th>\n",
       "      <th>contact</th>\n",
       "      <th>day</th>\n",
       "      <th>month</th>\n",
       "      <th>duration</th>\n",
       "      <th>campaign</th>\n",
       "      <th>pdays</th>\n",
       "      <th>previous</th>\n",
       "      <th>poutcome</th>\n",
       "      <th>y</th>\n",
       "    </tr>\n",
       "  </thead>\n",
       "  <tbody>\n",
       "    <tr>\n",
       "      <th>0</th>\n",
       "      <td>58</td>\n",
       "      <td>management</td>\n",
       "      <td>married</td>\n",
       "      <td>tertiary</td>\n",
       "      <td>no</td>\n",
       "      <td>2143</td>\n",
       "      <td>yes</td>\n",
       "      <td>no</td>\n",
       "      <td>unknown</td>\n",
       "      <td>5</td>\n",
       "      <td>may</td>\n",
       "      <td>261</td>\n",
       "      <td>1</td>\n",
       "      <td>-1</td>\n",
       "      <td>0</td>\n",
       "      <td>unknown</td>\n",
       "      <td>no</td>\n",
       "    </tr>\n",
       "    <tr>\n",
       "      <th>1</th>\n",
       "      <td>44</td>\n",
       "      <td>technician</td>\n",
       "      <td>single</td>\n",
       "      <td>secondary</td>\n",
       "      <td>no</td>\n",
       "      <td>29</td>\n",
       "      <td>yes</td>\n",
       "      <td>no</td>\n",
       "      <td>unknown</td>\n",
       "      <td>5</td>\n",
       "      <td>may</td>\n",
       "      <td>151</td>\n",
       "      <td>1</td>\n",
       "      <td>-1</td>\n",
       "      <td>0</td>\n",
       "      <td>unknown</td>\n",
       "      <td>no</td>\n",
       "    </tr>\n",
       "    <tr>\n",
       "      <th>2</th>\n",
       "      <td>33</td>\n",
       "      <td>entrepreneur</td>\n",
       "      <td>married</td>\n",
       "      <td>secondary</td>\n",
       "      <td>no</td>\n",
       "      <td>2</td>\n",
       "      <td>yes</td>\n",
       "      <td>yes</td>\n",
       "      <td>unknown</td>\n",
       "      <td>5</td>\n",
       "      <td>may</td>\n",
       "      <td>76</td>\n",
       "      <td>1</td>\n",
       "      <td>-1</td>\n",
       "      <td>0</td>\n",
       "      <td>unknown</td>\n",
       "      <td>no</td>\n",
       "    </tr>\n",
       "    <tr>\n",
       "      <th>3</th>\n",
       "      <td>47</td>\n",
       "      <td>blue-collar</td>\n",
       "      <td>married</td>\n",
       "      <td>unknown</td>\n",
       "      <td>no</td>\n",
       "      <td>1506</td>\n",
       "      <td>yes</td>\n",
       "      <td>no</td>\n",
       "      <td>unknown</td>\n",
       "      <td>5</td>\n",
       "      <td>may</td>\n",
       "      <td>92</td>\n",
       "      <td>1</td>\n",
       "      <td>-1</td>\n",
       "      <td>0</td>\n",
       "      <td>unknown</td>\n",
       "      <td>no</td>\n",
       "    </tr>\n",
       "    <tr>\n",
       "      <th>4</th>\n",
       "      <td>33</td>\n",
       "      <td>unknown</td>\n",
       "      <td>single</td>\n",
       "      <td>unknown</td>\n",
       "      <td>no</td>\n",
       "      <td>1</td>\n",
       "      <td>no</td>\n",
       "      <td>no</td>\n",
       "      <td>unknown</td>\n",
       "      <td>5</td>\n",
       "      <td>may</td>\n",
       "      <td>198</td>\n",
       "      <td>1</td>\n",
       "      <td>-1</td>\n",
       "      <td>0</td>\n",
       "      <td>unknown</td>\n",
       "      <td>no</td>\n",
       "    </tr>\n",
       "  </tbody>\n",
       "</table>\n",
       "</div>"
      ],
      "text/plain": [
       "   age           job  marital  education default  balance housing loan  \\\n",
       "0   58    management  married   tertiary      no     2143     yes   no   \n",
       "1   44    technician   single  secondary      no       29     yes   no   \n",
       "2   33  entrepreneur  married  secondary      no        2     yes  yes   \n",
       "3   47   blue-collar  married    unknown      no     1506     yes   no   \n",
       "4   33       unknown   single    unknown      no        1      no   no   \n",
       "\n",
       "   contact  day month  duration  campaign  pdays  previous poutcome   y  \n",
       "0  unknown    5   may       261         1     -1         0  unknown  no  \n",
       "1  unknown    5   may       151         1     -1         0  unknown  no  \n",
       "2  unknown    5   may        76         1     -1         0  unknown  no  \n",
       "3  unknown    5   may        92         1     -1         0  unknown  no  \n",
       "4  unknown    5   may       198         1     -1         0  unknown  no  "
      ]
     },
     "execution_count": 38,
     "metadata": {},
     "output_type": "execute_result"
    }
   ],
   "source": [
    "#data path \n",
    "\n",
    "data_path = \"../data/week_03-04/bank/bank-full.csv\"\n",
    "df = pd.read_csv(data_path, sep=';')\n",
    "df.head()"
   ]
  },
  {
   "cell_type": "code",
   "execution_count": 39,
   "metadata": {},
   "outputs": [
    {
     "data": {
      "text/plain": [
       "Index(['age', 'job', 'marital', 'education', 'default', 'balance', 'housing',\n",
       "       'loan', 'contact', 'day', 'month', 'duration', 'campaign', 'pdays',\n",
       "       'previous', 'poutcome', 'y'],\n",
       "      dtype='object')"
      ]
     },
     "execution_count": 39,
     "metadata": {},
     "output_type": "execute_result"
    }
   ],
   "source": [
    "df.columns"
   ]
  },
  {
   "cell_type": "markdown",
   "metadata": {},
   "source": [
    "## Dataset Preparation"
   ]
  },
  {
   "cell_type": "code",
   "execution_count": 40,
   "metadata": {},
   "outputs": [
    {
     "data": {
      "text/html": [
       "<div>\n",
       "<style scoped>\n",
       "    .dataframe tbody tr th:only-of-type {\n",
       "        vertical-align: middle;\n",
       "    }\n",
       "\n",
       "    .dataframe tbody tr th {\n",
       "        vertical-align: top;\n",
       "    }\n",
       "\n",
       "    .dataframe thead th {\n",
       "        text-align: right;\n",
       "    }\n",
       "</style>\n",
       "<table border=\"1\" class=\"dataframe\">\n",
       "  <thead>\n",
       "    <tr style=\"text-align: right;\">\n",
       "      <th></th>\n",
       "      <th>age</th>\n",
       "      <th>job</th>\n",
       "      <th>marital</th>\n",
       "      <th>education</th>\n",
       "      <th>balance</th>\n",
       "      <th>housing</th>\n",
       "      <th>contact</th>\n",
       "      <th>day</th>\n",
       "      <th>month</th>\n",
       "      <th>duration</th>\n",
       "      <th>campaign</th>\n",
       "      <th>pdays</th>\n",
       "      <th>previous</th>\n",
       "      <th>poutcome</th>\n",
       "      <th>y</th>\n",
       "    </tr>\n",
       "  </thead>\n",
       "  <tbody>\n",
       "    <tr>\n",
       "      <th>0</th>\n",
       "      <td>58</td>\n",
       "      <td>management</td>\n",
       "      <td>married</td>\n",
       "      <td>tertiary</td>\n",
       "      <td>2143</td>\n",
       "      <td>yes</td>\n",
       "      <td>unknown</td>\n",
       "      <td>5</td>\n",
       "      <td>may</td>\n",
       "      <td>261</td>\n",
       "      <td>1</td>\n",
       "      <td>-1</td>\n",
       "      <td>0</td>\n",
       "      <td>unknown</td>\n",
       "      <td>no</td>\n",
       "    </tr>\n",
       "    <tr>\n",
       "      <th>1</th>\n",
       "      <td>44</td>\n",
       "      <td>technician</td>\n",
       "      <td>single</td>\n",
       "      <td>secondary</td>\n",
       "      <td>29</td>\n",
       "      <td>yes</td>\n",
       "      <td>unknown</td>\n",
       "      <td>5</td>\n",
       "      <td>may</td>\n",
       "      <td>151</td>\n",
       "      <td>1</td>\n",
       "      <td>-1</td>\n",
       "      <td>0</td>\n",
       "      <td>unknown</td>\n",
       "      <td>no</td>\n",
       "    </tr>\n",
       "    <tr>\n",
       "      <th>2</th>\n",
       "      <td>33</td>\n",
       "      <td>entrepreneur</td>\n",
       "      <td>married</td>\n",
       "      <td>secondary</td>\n",
       "      <td>2</td>\n",
       "      <td>yes</td>\n",
       "      <td>unknown</td>\n",
       "      <td>5</td>\n",
       "      <td>may</td>\n",
       "      <td>76</td>\n",
       "      <td>1</td>\n",
       "      <td>-1</td>\n",
       "      <td>0</td>\n",
       "      <td>unknown</td>\n",
       "      <td>no</td>\n",
       "    </tr>\n",
       "    <tr>\n",
       "      <th>3</th>\n",
       "      <td>47</td>\n",
       "      <td>blue-collar</td>\n",
       "      <td>married</td>\n",
       "      <td>unknown</td>\n",
       "      <td>1506</td>\n",
       "      <td>yes</td>\n",
       "      <td>unknown</td>\n",
       "      <td>5</td>\n",
       "      <td>may</td>\n",
       "      <td>92</td>\n",
       "      <td>1</td>\n",
       "      <td>-1</td>\n",
       "      <td>0</td>\n",
       "      <td>unknown</td>\n",
       "      <td>no</td>\n",
       "    </tr>\n",
       "    <tr>\n",
       "      <th>4</th>\n",
       "      <td>33</td>\n",
       "      <td>unknown</td>\n",
       "      <td>single</td>\n",
       "      <td>unknown</td>\n",
       "      <td>1</td>\n",
       "      <td>no</td>\n",
       "      <td>unknown</td>\n",
       "      <td>5</td>\n",
       "      <td>may</td>\n",
       "      <td>198</td>\n",
       "      <td>1</td>\n",
       "      <td>-1</td>\n",
       "      <td>0</td>\n",
       "      <td>unknown</td>\n",
       "      <td>no</td>\n",
       "    </tr>\n",
       "  </tbody>\n",
       "</table>\n",
       "</div>"
      ],
      "text/plain": [
       "   age           job  marital  education  balance housing  contact  day month  \\\n",
       "0   58    management  married   tertiary     2143     yes  unknown    5   may   \n",
       "1   44    technician   single  secondary       29     yes  unknown    5   may   \n",
       "2   33  entrepreneur  married  secondary        2     yes  unknown    5   may   \n",
       "3   47   blue-collar  married    unknown     1506     yes  unknown    5   may   \n",
       "4   33       unknown   single    unknown        1      no  unknown    5   may   \n",
       "\n",
       "   duration  campaign  pdays  previous poutcome   y  \n",
       "0       261         1     -1         0  unknown  no  \n",
       "1       151         1     -1         0  unknown  no  \n",
       "2        76         1     -1         0  unknown  no  \n",
       "3        92         1     -1         0  unknown  no  \n",
       "4       198         1     -1         0  unknown  no  "
      ]
     },
     "execution_count": 40,
     "metadata": {},
     "output_type": "execute_result"
    }
   ],
   "source": [
    "#drop the ['default', and 'loan'] column\n",
    "\n",
    "df = df.drop(['default', 'loan'], axis=1)\n",
    "df.head()"
   ]
  },
  {
   "cell_type": "code",
   "execution_count": 41,
   "metadata": {},
   "outputs": [
    {
     "data": {
      "text/plain": [
       "age          0\n",
       "job          0\n",
       "marital      0\n",
       "education    0\n",
       "balance      0\n",
       "housing      0\n",
       "contact      0\n",
       "day          0\n",
       "month        0\n",
       "duration     0\n",
       "campaign     0\n",
       "pdays        0\n",
       "previous     0\n",
       "poutcome     0\n",
       "y            0\n",
       "dtype: int64"
      ]
     },
     "execution_count": 41,
     "metadata": {},
     "output_type": "execute_result"
    }
   ],
   "source": [
    "df.isnull().sum()"
   ]
  },
  {
   "cell_type": "code",
   "execution_count": 42,
   "metadata": {},
   "outputs": [
    {
     "data": {
      "text/plain": [
       "(27126, 9042, 9043)"
      ]
     },
     "execution_count": 42,
     "metadata": {},
     "output_type": "execute_result"
    }
   ],
   "source": [
    "# split the dataset\n",
    "\n",
    "from sklearn.model_selection import train_test_split\n",
    "\n",
    "df_full_train, df_test = train_test_split(df, test_size=0.2, random_state=1)\n",
    "df_train, df_val = train_test_split(df_full_train, test_size=0.25, random_state=1)\n",
    "len(df_train), len(df_val),len(df_test)"
   ]
  },
  {
   "cell_type": "code",
   "execution_count": 43,
   "metadata": {},
   "outputs": [],
   "source": [
    "#rest index\n",
    "df_train = df_train.reset_index(drop=True)\n",
    "df_val = df_val.reset_index(drop=True)\n",
    "df_test = df_test.reset_index(drop=True)"
   ]
  },
  {
   "cell_type": "code",
   "execution_count": 44,
   "metadata": {},
   "outputs": [],
   "source": [
    "#y variable\n",
    "y_train = df_train.y.values\n",
    "y_val = df_val.y.values\n",
    "y_test = df_test.y.values"
   ]
  },
  {
   "cell_type": "code",
   "execution_count": 45,
   "metadata": {},
   "outputs": [],
   "source": [
    "#del above_average in dataset for train\n",
    "del df_train['y']\n",
    "del df_val['y']\n",
    "del df_test['y']"
   ]
  },
  {
   "cell_type": "code",
   "execution_count": 46,
   "metadata": {},
   "outputs": [],
   "source": [
    "import numpy as np\n",
    "\n",
    "# Convert the target labels to binary values (0 and 1)\n",
    "y_train_binary = np.where(y_train == 'yes', 1, 0)\n",
    "y_val_binary = np.where(y_val == 'yes', 1, 0)\n",
    "y_test_binary = np.where(y_test == 'yes', 1, 0)\n"
   ]
  },
  {
   "cell_type": "code",
   "execution_count": 47,
   "metadata": {},
   "outputs": [
    {
     "data": {
      "text/plain": [
       "age           int64\n",
       "job          object\n",
       "marital      object\n",
       "education    object\n",
       "balance       int64\n",
       "housing      object\n",
       "contact      object\n",
       "day           int64\n",
       "month        object\n",
       "duration      int64\n",
       "campaign      int64\n",
       "pdays         int64\n",
       "previous      int64\n",
       "poutcome     object\n",
       "y            object\n",
       "dtype: object"
      ]
     },
     "execution_count": 47,
     "metadata": {},
     "output_type": "execute_result"
    }
   ],
   "source": [
    "df.dtypes"
   ]
  },
  {
   "cell_type": "code",
   "execution_count": 48,
   "metadata": {},
   "outputs": [
    {
     "data": {
      "text/plain": [
       "['age', 'balance', 'day', 'duration', 'campaign', 'pdays', 'previous']"
      ]
     },
     "execution_count": 48,
     "metadata": {},
     "output_type": "execute_result"
    }
   ],
   "source": [
    "num_colls = [i for i in df.dtypes[df.dtypes!='object'].index]\n",
    "num_colls"
   ]
  },
  {
   "cell_type": "markdown",
   "metadata": {},
   "source": [
    "## Question 1: ROC AUC feature importance\n",
    "\n",
    "used to evaluate feature importance of numerical variables"
   ]
  },
  {
   "cell_type": "code",
   "execution_count": 49,
   "metadata": {},
   "outputs": [
    {
     "name": "stdout",
     "output_type": "stream",
     "text": [
      "age 0.512185717527344\n",
      "balance 0.5888313805382317\n",
      "day 0.525957882383908\n",
      "duration 0.8147002759670778\n",
      "campaign 0.5714543015682159\n",
      "pdays 0.5901276247352144\n",
      "previous 0.5985653242764153\n"
     ]
    }
   ],
   "source": [
    "from sklearn.metrics import roc_auc_score\n",
    "\n",
    "for n in num_colls:\n",
    "    auc = roc_auc_score(y_train_binary, df_train[n])\n",
    "    if auc < 0.5:\n",
    "        auc = roc_auc_score(y_train_binary, -df_train[n])\n",
    "    print(n, auc)"
   ]
  },
  {
   "cell_type": "markdown",
   "metadata": {},
   "source": [
    "has the highest AUC: **duration**"
   ]
  },
  {
   "cell_type": "markdown",
   "metadata": {},
   "source": [
    "## Question 2 Training the model"
   ]
  },
  {
   "cell_type": "code",
   "execution_count": 50,
   "metadata": {},
   "outputs": [],
   "source": [
    "from sklearn.feature_extraction import DictVectorizer\n",
    "from sklearn.linear_model import LogisticRegression"
   ]
  },
  {
   "cell_type": "code",
   "execution_count": 51,
   "metadata": {},
   "outputs": [],
   "source": [
    "#apply one hot encoding and logistic regression\n",
    "def train(df_train, y_train_binary, C=1.0):\n",
    "    dicts = df_train.to_dict(orient='records')\n",
    "\n",
    "    dv = DictVectorizer(sparse=False)\n",
    "    X_train = dv.fit_transform(dicts)\n",
    "\n",
    "    model = LogisticRegression(solver='liblinear', C=1.0, max_iter=1000, class_weight='balanced')\n",
    "    model.fit(X_train, y_train_binary)\n",
    "    \n",
    "    return dv, model"
   ]
  },
  {
   "cell_type": "code",
   "execution_count": 52,
   "metadata": {},
   "outputs": [],
   "source": [
    "dv, model = train(df_train, y_train_binary, C=1.0)"
   ]
  },
  {
   "cell_type": "code",
   "execution_count": 53,
   "metadata": {},
   "outputs": [],
   "source": [
    "def predict(df, dv, model):\n",
    "    dicts = df.to_dict(orient='records')\n",
    "    X = dv.transform(dicts)\n",
    "    y_pred = model.predict_proba(X)[:, 1]\n",
    "\n",
    "    return y_pred"
   ]
  },
  {
   "cell_type": "code",
   "execution_count": 54,
   "metadata": {},
   "outputs": [
    {
     "name": "stdout",
     "output_type": "stream",
     "text": [
      "[0.12818326 0.07187131 0.09977683 0.05877425 0.14278545 0.17442156\n",
      " 0.23071214 0.16566695 0.25078343 0.0234851 ]\n"
     ]
    },
    {
     "data": {
      "text/plain": [
       "0.904"
      ]
     },
     "execution_count": 54,
     "metadata": {},
     "output_type": "execute_result"
    }
   ],
   "source": [
    "y_pred = predict(df_val, dv, model)\n",
    "print(y_pred[:10]) \n",
    "auc = roc_auc_score(y_val_binary, y_pred)\n",
    "auc.round(decimals=3)"
   ]
  },
  {
   "cell_type": "markdown",
   "metadata": {},
   "source": [
    "uh- I think I get wrong somewhere but the closest one is 0.89"
   ]
  },
  {
   "cell_type": "markdown",
   "metadata": {},
   "source": [
    "## Question 3: Precision and Recall"
   ]
  },
  {
   "cell_type": "code",
   "execution_count": 19,
   "metadata": {},
   "outputs": [
    {
     "name": "stdout",
     "output_type": "stream",
     "text": [
      "0.11579296615792967\n"
     ]
    }
   ],
   "source": [
    "print(y_train_binary.mean())  # Check the proportion of positive labels\n"
   ]
  },
  {
   "cell_type": "code",
   "execution_count": 20,
   "metadata": {},
   "outputs": [
    {
     "name": "stdout",
     "output_type": "stream",
     "text": [
      "AUC: 0.9035167850729239\n"
     ]
    }
   ],
   "source": [
    "auc = roc_auc_score(y_val_binary, y_pred)\n",
    "print(f\"AUC: {auc}\")\n"
   ]
  },
  {
   "cell_type": "code",
   "execution_count": 55,
   "metadata": {},
   "outputs": [],
   "source": [
    "from sklearn.metrics import precision_score\n",
    "from sklearn.metrics import recall_score"
   ]
  },
  {
   "cell_type": "code",
   "execution_count": 56,
   "metadata": {},
   "outputs": [
    {
     "name": "stdout",
     "output_type": "stream",
     "text": [
      "Threshold: 0.0, Precision: 0.12143331121433311, Recall: 1.0\n",
      "Threshold: 0.01, Precision: 0.12265415549597855, Recall: 1.0\n",
      "Threshold: 0.02, Precision: 0.12646991007608946, Recall: 0.9990892531876139\n",
      "Threshold: 0.03, Precision: 0.13156632285919884, Recall: 0.9990892531876139\n",
      "Threshold: 0.04, Precision: 0.13686313686313686, Recall: 0.9981785063752276\n",
      "Threshold: 0.05, Precision: 0.14202258860184344, Recall: 0.9963570127504554\n",
      "Threshold: 0.06, Precision: 0.14759848893685915, Recall: 0.9963570127504554\n",
      "Threshold: 0.07, Precision: 0.1540628080552035, Recall: 0.9963570127504554\n",
      "Threshold: 0.08, Precision: 0.15951546993578516, Recall: 0.9954462659380692\n",
      "Threshold: 0.09, Precision: 0.16570648878107944, Recall: 0.9954462659380692\n",
      "Threshold: 0.1, Precision: 0.17218021424070573, Recall: 0.9954462659380692\n",
      "Threshold: 0.11, Precision: 0.1793567443386938, Recall: 0.9954462659380692\n",
      "Threshold: 0.12, Precision: 0.18597924110940955, Recall: 0.9954462659380692\n",
      "Threshold: 0.13, Precision: 0.19223985890652556, Recall: 0.9927140255009107\n",
      "Threshold: 0.14, Precision: 0.19985304922850844, Recall: 0.9908925318761385\n",
      "Threshold: 0.15, Precision: 0.20666666666666667, Recall: 0.98816029143898\n",
      "Threshold: 0.16, Precision: 0.2145829205468595, Recall: 0.9863387978142076\n",
      "Threshold: 0.17, Precision: 0.22240595287308806, Recall: 0.9799635701275046\n",
      "Threshold: 0.18, Precision: 0.22976445396145612, Recall: 0.9772313296903461\n",
      "Threshold: 0.19, Precision: 0.2382012466607302, Recall: 0.9744990892531876\n",
      "Threshold: 0.2, Precision: 0.24517019319227232, Recall: 0.970856102003643\n",
      "Threshold: 0.21, Precision: 0.25261904761904763, Recall: 0.9663023679417122\n",
      "Threshold: 0.22, Precision: 0.26004436775942813, Recall: 0.9608378870673953\n",
      "Threshold: 0.23, Precision: 0.26702235772357724, Recall: 0.9571948998178507\n",
      "Threshold: 0.24, Precision: 0.2744429882044561, Recall: 0.953551912568306\n",
      "Threshold: 0.25, Precision: 0.2819264069264069, Recall: 0.9489981785063752\n",
      "Threshold: 0.26, Precision: 0.2889447236180904, Recall: 0.9426229508196722\n",
      "Threshold: 0.27, Precision: 0.2945048654836863, Recall: 0.9371584699453552\n",
      "Threshold: 0.28, Precision: 0.300559317044451, Recall: 0.9298724954462659\n",
      "Threshold: 0.29, Precision: 0.30773881499395406, Recall: 0.9271402550091075\n",
      "Threshold: 0.3, Precision: 0.31288723667905827, Recall: 0.9198542805100182\n",
      "Threshold: 0.31, Precision: 0.31844106463878324, Recall: 0.9153005464480874\n",
      "Threshold: 0.32, Precision: 0.32307193778353854, Recall: 0.9080145719489982\n",
      "Threshold: 0.33, Precision: 0.3286991062562066, Recall: 0.9043715846994536\n",
      "Threshold: 0.34, Precision: 0.33355886332882273, Recall: 0.8979963570127505\n",
      "Threshold: 0.35000000000000003, Precision: 0.33957033957033955, Recall: 0.8925318761384335\n",
      "Threshold: 0.36, Precision: 0.3456221198156682, Recall: 0.8879781420765027\n",
      "Threshold: 0.37, Precision: 0.35019877123238163, Recall: 0.8825136612021858\n",
      "Threshold: 0.38, Precision: 0.35584415584415585, Recall: 0.8734061930783242\n",
      "Threshold: 0.39, Precision: 0.3609422492401216, Recall: 0.8652094717668488\n",
      "Threshold: 0.4, Precision: 0.3663174233604967, Recall: 0.8597449908925319\n",
      "Threshold: 0.41000000000000003, Precision: 0.3727598566308244, Recall: 0.8524590163934426\n",
      "Threshold: 0.42, Precision: 0.3754556500607533, Recall: 0.8442622950819673\n",
      "Threshold: 0.43, Precision: 0.3839099624843685, Recall: 0.8387978142076503\n",
      "Threshold: 0.44, Precision: 0.3889837745516652, Recall: 0.8296903460837887\n",
      "Threshold: 0.45, Precision: 0.393214441061331, Recall: 0.8233151183970856\n",
      "Threshold: 0.46, Precision: 0.39707835325365204, Recall: 0.8169398907103825\n",
      "Threshold: 0.47000000000000003, Precision: 0.40289723856948845, Recall: 0.8105646630236795\n",
      "Threshold: 0.48, Precision: 0.40574339972209356, Recall: 0.7978142076502732\n",
      "Threshold: 0.49, Precision: 0.41076487252124644, Recall: 0.7923497267759563\n",
      "Threshold: 0.5, Precision: 0.4163855421686747, Recall: 0.7868852459016393\n",
      "Threshold: 0.51, Precision: 0.4204322200392927, Recall: 0.7795992714025501\n",
      "Threshold: 0.52, Precision: 0.42355889724310775, Recall: 0.7695810564663024\n",
      "Threshold: 0.53, Precision: 0.42813455657492355, Recall: 0.7650273224043715\n",
      "Threshold: 0.54, Precision: 0.43020833333333336, Recall: 0.7522768670309654\n",
      "Threshold: 0.55, Precision: 0.4357066950053135, Recall: 0.7468123861566485\n",
      "Threshold: 0.56, Precision: 0.4403025391680173, Recall: 0.7422586520947176\n",
      "Threshold: 0.5700000000000001, Precision: 0.44529961517317207, Recall: 0.7377049180327869\n",
      "Threshold: 0.58, Precision: 0.4506172839506173, Recall: 0.7313296903460837\n",
      "Threshold: 0.59, Precision: 0.45236737022247575, Recall: 0.7222222222222222\n",
      "Threshold: 0.6, Precision: 0.4550203134068485, Recall: 0.7140255009107468\n",
      "Threshold: 0.61, Precision: 0.4592988710635769, Recall: 0.7040072859744991\n",
      "Threshold: 0.62, Precision: 0.4697986577181208, Recall: 0.7012750455373407\n",
      "Threshold: 0.63, Precision: 0.4745341614906832, Recall: 0.6958105646630237\n",
      "Threshold: 0.64, Precision: 0.47848101265822784, Recall: 0.6885245901639344\n",
      "Threshold: 0.65, Precision: 0.48638132295719844, Recall: 0.6830601092896175\n",
      "Threshold: 0.66, Precision: 0.49265687583444595, Recall: 0.6721311475409836\n",
      "Threshold: 0.67, Precision: 0.49761417859577367, Recall: 0.6648451730418944\n",
      "Threshold: 0.68, Precision: 0.5035063113604488, Recall: 0.6539162112932605\n",
      "Threshold: 0.6900000000000001, Precision: 0.5079022988505747, Recall: 0.6438979963570127\n",
      "Threshold: 0.7000000000000001, Precision: 0.5135730007336757, Recall: 0.6375227686703097\n",
      "Threshold: 0.71, Precision: 0.5176824680210684, Recall: 0.6265938069216758\n",
      "Threshold: 0.72, Precision: 0.5243996901626646, Recall: 0.6165755919854281\n",
      "Threshold: 0.73, Precision: 0.533120510774142, Recall: 0.6083788706739527\n",
      "Threshold: 0.74, Precision: 0.5358615004122012, Recall: 0.5919854280510018\n",
      "Threshold: 0.75, Precision: 0.5371621621621622, Recall: 0.5792349726775956\n",
      "Threshold: 0.76, Precision: 0.5446660884648742, Recall: 0.5719489981785064\n",
      "Threshold: 0.77, Precision: 0.5530575539568345, Recall: 0.5601092896174863\n",
      "Threshold: 0.78, Precision: 0.5583333333333333, Recall: 0.5491803278688525\n",
      "Threshold: 0.79, Precision: 0.5629139072847682, Recall: 0.5418943533697632\n",
      "Threshold: 0.8, Precision: 0.5662414131501472, Recall: 0.5255009107468124\n",
      "Threshold: 0.81, Precision: 0.5715725806451613, Recall: 0.5163934426229508\n",
      "Threshold: 0.8200000000000001, Precision: 0.5782241014799154, Recall: 0.4981785063752277\n",
      "Threshold: 0.8300000000000001, Precision: 0.5828698553948832, Recall: 0.4772313296903461\n",
      "Threshold: 0.84, Precision: 0.5860889395667047, Recall: 0.4681238615664845\n",
      "Threshold: 0.85, Precision: 0.5924170616113744, Recall: 0.4553734061930783\n",
      "Threshold: 0.86, Precision: 0.5967741935483871, Recall: 0.43806921675774135\n",
      "Threshold: 0.87, Precision: 0.6066838046272494, Recall: 0.42987249544626593\n",
      "Threshold: 0.88, Precision: 0.614765100671141, Recall: 0.41712204007285975\n",
      "Threshold: 0.89, Precision: 0.6253561253561254, Recall: 0.3998178506375228\n",
      "Threshold: 0.9, Precision: 0.6432926829268293, Recall: 0.3843351548269581\n",
      "Threshold: 0.91, Precision: 0.654281098546042, Recall: 0.36885245901639346\n",
      "Threshold: 0.92, Precision: 0.6501706484641638, Recall: 0.3469945355191257\n",
      "Threshold: 0.93, Precision: 0.6685082872928176, Recall: 0.33060109289617484\n",
      "Threshold: 0.9400000000000001, Precision: 0.6626506024096386, Recall: 0.3005464480874317\n",
      "Threshold: 0.9500000000000001, Precision: 0.672645739910314, Recall: 0.273224043715847\n",
      "Threshold: 0.96, Precision: 0.6733167082294265, Recall: 0.2459016393442623\n",
      "Threshold: 0.97, Precision: 0.6744186046511628, Recall: 0.21129326047358835\n",
      "Threshold: 0.98, Precision: 0.6738351254480287, Recall: 0.17122040072859745\n",
      "Threshold: 0.99, Precision: 0.6761363636363636, Recall: 0.10837887067395265\n",
      "Threshold: 1.0, Precision: 0.0, Recall: 0.0\n"
     ]
    },
    {
     "name": "stderr",
     "output_type": "stream",
     "text": [
      "c:\\Users\\asus\\AppData\\Local\\Programs\\Python\\Python310\\lib\\site-packages\\sklearn\\metrics\\_classification.py:1469: UndefinedMetricWarning: Precision is ill-defined and being set to 0.0 due to no predicted samples. Use `zero_division` parameter to control this behavior.\n",
      "  _warn_prf(average, modifier, msg_start, len(result))\n"
     ]
    }
   ],
   "source": [
    "thresholds = np.linspace(0, 1, 101)\n",
    "for t in thresholds:\n",
    "    y_pred_binary = (y_pred >= t).astype(int)\n",
    "    precision = precision_score(y_val_binary, y_pred_binary)\n",
    "    recall = recall_score(y_val_binary, y_pred_binary)\n",
    "    print(f\"Threshold: {t}, Precision: {precision}, Recall: {recall}\")\n"
   ]
  },
  {
   "cell_type": "markdown",
   "metadata": {},
   "source": [
    "### plot the recall and precision"
   ]
  },
  {
   "cell_type": "code",
   "execution_count": 57,
   "metadata": {},
   "outputs": [],
   "source": [
    "scores = []\n",
    "\n",
    "thresholds = np.linspace(0, 1, 101)\n",
    "\n",
    "for t in thresholds:\n",
    "    actual_positive = (y_val_binary == 1)\n",
    "    actual_negative = (y_val_binary == 0)\n",
    "    \n",
    "    predict_positive = (y_pred >= t)\n",
    "    predict_negative = (y_pred < t)\n",
    "\n",
    "    tp = (predict_positive & actual_positive).sum()\n",
    "    tn = (predict_negative & actual_negative).sum()\n",
    "\n",
    "    fp = (predict_positive & actual_negative).sum()\n",
    "    fn = (predict_negative & actual_positive).sum()\n",
    "    \n",
    "    scores.append((t, tp, fp, fn, tn))\n"
   ]
  },
  {
   "cell_type": "code",
   "execution_count": 58,
   "metadata": {},
   "outputs": [],
   "source": [
    "columns = ['threshold', 'tp', 'fp', 'fn', 'tn']\n",
    "df_scores = pd.DataFrame(scores, columns=columns)\n",
    "\n",
    "df_scores['tpr'] = df_scores.tp / (df_scores.tp + df_scores.fn)\n",
    "df_scores['fpr'] = df_scores.fp / (df_scores.fp + df_scores.tn)\n",
    "\n",
    "# Compute precision and recall and add them as new columns\n",
    "df_scores['precision'] = df_scores['tp'] / (df_scores['tp'] + df_scores['fp'])\n",
    "df_scores['recall'] = df_scores['tp'] / (df_scores['tp'] + df_scores['fn'])\n",
    "\n",
    "# Drop rows where precision or recall is NaN\n",
    "df_scores_cleaned = df_scores.dropna(subset=['precision', 'recall'])\n",
    "\n"
   ]
  },
  {
   "cell_type": "code",
   "execution_count": 59,
   "metadata": {},
   "outputs": [
    {
     "name": "stdout",
     "output_type": "stream",
     "text": [
      "    threshold   tp   fp   fn    tn       tpr       fpr  precision    recall\n",
      "77       0.77  615  497  483  7447  0.560109  0.062563   0.553058  0.560109\n",
      "78       0.78  603  477  495  7467  0.549180  0.060045   0.558333  0.549180\n"
     ]
    }
   ],
   "source": [
    "# Find intersections with a loose tolerance\n",
    "intersection = df_scores_cleaned[np.isclose(df_scores_cleaned['precision'], df_scores_cleaned['recall'], atol=0.01)]\n",
    "\n",
    "# Display the intersection\n",
    "print(intersection)"
   ]
  },
  {
   "cell_type": "code",
   "execution_count": 60,
   "metadata": {},
   "outputs": [
    {
     "data": {
      "text/plain": [
       "<matplotlib.legend.Legend at 0x18306d7ab60>"
      ]
     },
     "execution_count": 60,
     "metadata": {},
     "output_type": "execute_result"
    },
    {
     "data": {
      "image/png": "[encoded data removed]",
      "text/plain": [
       "<Figure size 432x288 with 1 Axes>"
      ]
     },
     "metadata": {
      "needs_background": "light"
     },
     "output_type": "display_data"
    }
   ],
   "source": [
    "plt.plot(df_scores_cleaned.threshold, df_scores_cleaned['precision'], label='precision')\n",
    "plt.plot(df_scores_cleaned.threshold, df_scores_cleaned['recall'], label='recall')\n",
    "plt.legend()"
   ]
  },
  {
   "cell_type": "markdown",
   "metadata": {},
   "source": [
    "Answer: they have itersect around 77, 78 but I there's no. so, i will choose 0.665"
   ]
  },
  {
   "cell_type": "markdown",
   "metadata": {},
   "source": [
    "## Question 4: F1 score"
   ]
  },
  {
   "cell_type": "code",
   "execution_count": 61,
   "metadata": {},
   "outputs": [
    {
     "name": "stderr",
     "output_type": "stream",
     "text": [
      "C:\\Users\\asus\\AppData\\Local\\Temp/ipykernel_15956/2177526000.py:1: SettingWithCopyWarning: \n",
      "A value is trying to be set on a copy of a slice from a DataFrame.\n",
      "Try using .loc[row_indexer,col_indexer] = value instead\n",
      "\n",
      "See the caveats in the documentation: https://pandas.pydata.org/pandas-docs/stable/user_guide/indexing.html#returning-a-view-versus-a-copy\n",
      "  df_scores_cleaned['f1_score'] = 2 * df_scores_cleaned.precision * df_scores_cleaned.recall / (df_scores_cleaned.precision + df_scores_cleaned.recall)\n"
     ]
    },
    {
     "data": {
      "text/plain": [
       "<matplotlib.legend.Legend at 0x18307e2a740>"
      ]
     },
     "execution_count": 61,
     "metadata": {},
     "output_type": "execute_result"
    },
    {
     "data": {
      "image/png": "[encoded data removed]",
      "text/plain": [
       "<Figure size 432x288 with 1 Axes>"
      ]
     },
     "metadata": {
      "needs_background": "light"
     },
     "output_type": "display_data"
    }
   ],
   "source": [
    "df_scores_cleaned['f1_score'] = 2 * df_scores_cleaned.precision * df_scores_cleaned.recall / (df_scores_cleaned.precision + df_scores_cleaned.recall) \n",
    "plt.plot(df_scores_cleaned.threshold, df_scores_cleaned['f1_score'], label='F1 Score')\n",
    "plt.legend()"
   ]
  },
  {
   "cell_type": "markdown",
   "metadata": {},
   "source": [
    "The answer around more than 0.6 so.. 0.62"
   ]
  },
  {
   "cell_type": "markdown",
   "metadata": {},
   "source": [
    "## Question 5: 5-Fold CV\n",
    "\n",
    "KFold(n_splits=5, shuffle=True, random_state=1)"
   ]
  },
  {
   "cell_type": "code",
   "execution_count": 31,
   "metadata": {},
   "outputs": [],
   "source": [
    "from sklearn.model_selection import KFold\n",
    "from tqdm.auto import tqdm"
   ]
  },
  {
   "cell_type": "code",
   "execution_count": 62,
   "metadata": {},
   "outputs": [
    {
     "name": "stdout",
     "output_type": "stream",
     "text": [
      "0.909 +- 0.005\n"
     ]
    }
   ],
   "source": [
    "kfold = KFold(n_splits=5, shuffle=True, random_state=1)\n",
    "scores = []\n",
    "\n",
    "for train_idx, val_idx in kfold.split(df_full_train):\n",
    "    df_train = df_full_train.iloc[train_idx].copy()\n",
    "    df_val = df_full_train.iloc[val_idx].copy()\n",
    "\n",
    "    y_train = df_train.y.values\n",
    "    y_val = df_val.y.values\n",
    "\n",
    "    del df_train['y']\n",
    "    del df_val['y']\n",
    "\n",
    "    y_train_binary = np.where(y_train == 'yes', 1, 0)\n",
    "    y_val_binary = np.where(y_val == 'yes', 1, 0)\n",
    "\n",
    "    dv, model = train(df_train, y_train_binary, C=1.0)\n",
    "    y_pred = predict(df_val, dv, model)\n",
    "\n",
    "    auc = roc_auc_score(y_val_binary, y_pred)\n",
    "    scores.append(auc)\n",
    "\n",
    "print('%.3f +- %.3f' % (np.mean(scores), np.std(scores)))"
   ]
  },
  {
   "cell_type": "markdown",
   "metadata": {},
   "source": [
    "I got 0.005 but the close one is 0.006"
   ]
  },
  {
   "cell_type": "markdown",
   "metadata": {},
   "source": [
    "## Question 6: Hyperparameter Tuning"
   ]
  },
  {
   "cell_type": "code",
   "execution_count": 64,
   "metadata": {},
   "outputs": [
    {
     "data": {
      "application/vnd.jupyter.widget-view+json": {
       "model_id": "887f131421e94364bde74dd0ea3de167",
       "version_major": 2,
       "version_minor": 0
      },
      "text/plain": [
       "  0%|          | 0/3 [00:00<?, ?it/s]"
      ]
     },
     "metadata": {},
     "output_type": "display_data"
    },
    {
     "name": "stdout",
     "output_type": "stream",
     "text": [
      "C=1e-06 0.909 +- 0.005\n",
      "C=0.001 0.909 +- 0.005\n",
      "C=1 0.909 +- 0.005\n"
     ]
    }
   ],
   "source": [
    "n_splits = 5\n",
    "\n",
    "for C in tqdm([0.000001, 0.001, 1]):\n",
    "    kfold = KFold(n_splits=5, shuffle=True, random_state=1)\n",
    "    scores = []\n",
    "\n",
    "    for train_idx, val_idx in kfold.split(df_full_train):\n",
    "        df_train = df_full_train.iloc[train_idx].copy()\n",
    "        df_val = df_full_train.iloc[val_idx].copy()\n",
    "\n",
    "        y_train = df_train.y.values\n",
    "        y_val = df_val.y.values\n",
    "\n",
    "        del df_train['y']\n",
    "        del df_val['y']\n",
    "\n",
    "        y_train_binary = np.where(y_train == 'yes', 1, 0)\n",
    "        y_val_binary = np.where(y_val == 'yes', 1, 0)\n",
    "\n",
    "        dv, model = train(df_train, y_train_binary, C=1.0)\n",
    "        y_pred = predict(df_val, dv, model)\n",
    "\n",
    "        auc = roc_auc_score(y_val_binary, y_pred)\n",
    "        scores.append(auc)\n",
    "\n",
    "    print('C=%s %.3f +- %.3f' % (C, np.mean(scores), np.std(scores)))"
   ]
  },
  {
   "cell_type": "markdown",
   "metadata": {},
   "source": [
    "I have tie so, the small one is the answer 1e-06"
   ]
  }
 ],
 "metadata": {
  "kernelspec": {
   "display_name": "Python 3",
   "language": "python",
   "name": "python3"
  },
  "language_info": {
   "codemirror_mode": {
    "name": "ipython",
    "version": 3
   },
   "file_extension": ".py",
   "mimetype": "text/x-python",
   "name": "python",
   "nbconvert_exporter": "python",
   "pygments_lexer": "ipython3",
   "version": "3.10.11"
  }
 },
 "nbformat": 4,
 "nbformat_minor": 2
}
