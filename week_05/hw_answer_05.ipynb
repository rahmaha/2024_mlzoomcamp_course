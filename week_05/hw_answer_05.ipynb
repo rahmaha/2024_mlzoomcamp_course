{
 "cells": [
  {
   "cell_type": "markdown",
   "metadata": {},
   "source": [
    "## Question 1\n",
    "\n",
    "pipenv version\n",
    "\n",
    "answer: pipenv, version 2023.10.24"
   ]
  },
  {
   "cell_type": "markdown",
   "metadata": {},
   "source": [
    "## Question 2\n",
    "\n",
    "hash for scikit-learn:\n",
    "\n",
    "03b6158efa3faaf1feea3faa884c840ebd61b6484167c711548fce208ea09445"
   ]
  },
  {
   "cell_type": "markdown",
   "metadata": {},
   "source": [
    "## Question 3\n",
    "- script for loading model with pickle: (q3_answer.py)\n",
    "- the probability:\n",
    "0.759\n",
    "\n",
    "- the closest one is 0.757"
   ]
  },
  {
   "cell_type": "markdown",
   "metadata": {},
   "source": [
    "## Question 4\n",
    "- because using windows, so give commands this: \n",
    "py q4_predict.py\n",
    "then new command and run py q4_test.py\n",
    "- score using requests\n",
    "{'probability': 0.33480703475511053}\n",
    "\n",
    "- the answer is 0.335"
   ]
  },
  {
   "cell_type": "markdown",
   "metadata": {},
   "source": [
    "## Question 5\n",
    "- using doker so:\n",
    "1. dockerfile\n",
    "\n",
    "what's the size of this base?\n",
    "- use docker image pull svizor/zoomcamp-model:3.11.5-slim\n",
    "\n",
    "answer: 130 MB"
   ]
  },
  {
   "cell_type": "markdown",
   "metadata": {},
   "source": [
    "## Question 6\n",
    "- using docker so:\n",
    "1. dockerfile\n",
    "2. q6_predict and q6_test\n",
    "\n",
    "How do use that file:\n",
    "- open docker desktop\n",
    "- use command: docker build -t hw5_q6 .\n",
    "- next docker run -it -p 9696:9696 hw5_q6:latest\n",
    "- use other command and run py q6_test.py\n",
    "\n",
    "answer:\n",
    "{'get_credit': True, 'get_credit_probability': 0.756743795240796}"
   ]
  }
 ],
 "metadata": {
  "kernelspec": {
   "display_name": "Python 3",
   "language": "python",
   "name": "python3"
  },
  "language_info": {
   "name": "python",
   "version": "3.10.11"
  }
 },
 "nbformat": 4,
 "nbformat_minor": 2
}
